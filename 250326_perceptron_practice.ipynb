{
  "cells": [
    {
      "cell_type": "markdown",
      "metadata": {
        "id": "view-in-github",
        "colab_type": "text"
      },
      "source": [
        "<a href=\"https://colab.research.google.com/github/ChoHyeonJun86/deeplearning-prac/blob/main/250326_perceptron_practice.ipynb\" target=\"_parent\"><img src=\"https://colab.research.google.com/assets/colab-badge.svg\" alt=\"Open In Colab\"/></a>"
      ]
    },
    {
      "cell_type": "code",
      "execution_count": 11,
      "metadata": {
        "id": "4IvVkQVV-bR5"
      },
      "outputs": [],
      "source": [
        "import numpy as np"
      ]
    },
    {
      "cell_type": "code",
      "execution_count": 12,
      "metadata": {
        "id": "g22UduqZ-bR6"
      },
      "outputs": [],
      "source": [
        "# AND 데이터셋 정의, 1과의 연산에서만 1 출력\n",
        "AND_X = np.array([[0, 0], [0, 1], [1, 0], [1, 1]])  # 입력값\n",
        "AND_y = np.array([0, 0, 0, 1])  # AND 출력값\n",
        "\n",
        "# OR 데이터셋 정의, 0고의 연산에서만 0 출력\n",
        "OR_X = np.array([[0, 0], [0, 1], [1, 0], [1, 1]])  # 입력값\n",
        "OR_y = np.array([0, 1, 1, 1])  # OR 출력값\n",
        "\n",
        "# XOR 데이터셋 정의, 두 수가 겹칠 때 0출력.\n",
        "XOR_X = np.array([[0, 0], [0, 1], [1, 0], [1, 1]])  # 입력값\n",
        "XOR_y = np.array([0, 1, 1, 0])  # XOR 출력값"
      ]
    },
    {
      "cell_type": "code",
      "execution_count": 13,
      "metadata": {
        "id": "uso-thK8-bR6"
      },
      "outputs": [],
      "source": [
        "# 퍼셉트론 모델 정의\n",
        "class Perceptron:\n",
        "    def __init__(self, input_size, lr=0.1, epochs=10): #가중치를 조정해야 하므로 input_size 설정한 모습, 학습률 0으로 초기화, 에포크 역시 초기화.\n",
        "        self.weights = np.zeros(input_size + 1)  # 가중치 초기화 (bias 포함)\n",
        "        self.lr = lr  # 학습률\n",
        "        self.epochs = epochs  # 학습 반복 횟수\n",
        "\n",
        "    def activation(self, x):\n",
        "        return 1 if x >= 0 else 0  # 단위 계단 함수\n",
        "\n",
        "    def predict(self, x):\n",
        "        z = np.dot(x, self.weights[1:]) + self.weights[0]  # 가중치와 입력값 계산-> 가중치를 x와 곱하고 나서 b, 편향을 더하겠다는 내용.\n",
        "        return self.activation(z)\n",
        "\n",
        "    def fit(self, X, y):#학습 과정\n",
        "        for epoch in range(self.epochs):  #에포크(10)만큼 반복하겠다.\n",
        "            for i in range(X.shape[0]):\n",
        "                x_i = X[i]\n",
        "                y_pred = self.predict(x_i)\n",
        "                error = y[i] - y_pred\n",
        "\n",
        "                # 가중치 업데이트\n",
        "                self.weights[1:] += self.lr * error * x_i\n",
        "                self.weights[0] += self.lr * error  # bias 업데이트\n",
        "\n",
        "            # 학습 과정 출력\n",
        "            print(f\"Epoch {epoch + 1}/{self.epochs}, Weights: {self.weights}\")"
      ]
    },
    {
      "cell_type": "markdown",
      "metadata": {
        "id": "n1m2h47q-bR7"
      },
      "source": [
        "# AND 데이터 학습"
      ]
    },
    {
      "cell_type": "code",
      "execution_count": 14,
      "metadata": {
        "colab": {
          "base_uri": "https://localhost:8080/"
        },
        "id": "csgsRAED-bR8",
        "outputId": "76a0b3ee-97b4-4e13-e8cd-5f829241bf5e"
      },
      "outputs": [
        {
          "output_type": "stream",
          "name": "stdout",
          "text": [
            "Epoch 1/10, Weights: [0.  0.1 0.1]\n",
            "Epoch 2/10, Weights: [-0.1  0.2  0.1]\n",
            "Epoch 3/10, Weights: [-0.2  0.2  0.1]\n",
            "Epoch 4/10, Weights: [-0.2  0.2  0.1]\n",
            "Epoch 5/10, Weights: [-0.2  0.2  0.1]\n",
            "Epoch 6/10, Weights: [-0.2  0.2  0.1]\n",
            "Epoch 7/10, Weights: [-0.2  0.2  0.1]\n",
            "Epoch 8/10, Weights: [-0.2  0.2  0.1]\n",
            "Epoch 9/10, Weights: [-0.2  0.2  0.1]\n",
            "Epoch 10/10, Weights: [-0.2  0.2  0.1]\n"
          ]
        }
      ],
      "source": [
        "# 퍼셉트론 학습\n",
        "perceptron = Perceptron(input_size=2, lr=0.1, epochs=10)\n",
        "perceptron.fit(AND_X, AND_y)"
      ]
    },
    {
      "cell_type": "code",
      "execution_count": 15,
      "metadata": {
        "colab": {
          "base_uri": "https://localhost:8080/"
        },
        "id": "I0dNGlbQ-bR9",
        "outputId": "10857f9d-ffcf-427d-bee4-3929d3fc895f"
      },
      "outputs": [
        {
          "output_type": "stream",
          "name": "stdout",
          "text": [
            "Input: [0 0], Predicted: 0, Target: 0\n",
            "Input: [0 1], Predicted: 0, Target: 0\n",
            "Input: [1 0], Predicted: 0, Target: 0\n",
            "Input: [1 1], Predicted: 1, Target: 1\n"
          ]
        }
      ],
      "source": [
        "# AND 테스트\n",
        "for x, target in zip(AND_X, AND_y):\n",
        "    pred = perceptron.predict(x)\n",
        "    print(f\"Input: {x}, Predicted: {pred}, Target: {target}\")"
      ]
    },
    {
      "cell_type": "markdown",
      "metadata": {
        "id": "o3bigTot-bR9"
      },
      "source": [
        "# OR 데이터 학습"
      ]
    },
    {
      "cell_type": "code",
      "execution_count": 16,
      "metadata": {
        "colab": {
          "base_uri": "https://localhost:8080/"
        },
        "id": "uQclOUvM-bR9",
        "outputId": "0f1af1aa-4a2d-4446-8717-7232441d8bb7"
      },
      "outputs": [
        {
          "output_type": "stream",
          "name": "stdout",
          "text": [
            "Epoch 1/10, Weights: [0.  0.  0.1]\n",
            "Epoch 2/10, Weights: [0.  0.1 0.1]\n",
            "Epoch 3/10, Weights: [-0.1  0.1  0.1]\n",
            "Epoch 4/10, Weights: [-0.1  0.1  0.1]\n",
            "Epoch 5/10, Weights: [-0.1  0.1  0.1]\n",
            "Epoch 6/10, Weights: [-0.1  0.1  0.1]\n",
            "Epoch 7/10, Weights: [-0.1  0.1  0.1]\n",
            "Epoch 8/10, Weights: [-0.1  0.1  0.1]\n",
            "Epoch 9/10, Weights: [-0.1  0.1  0.1]\n",
            "Epoch 10/10, Weights: [-0.1  0.1  0.1]\n"
          ]
        }
      ],
      "source": [
        "# 퍼셉트론 학습\n",
        "perceptron = Perceptron(input_size=2, lr=0.1, epochs=10)\n",
        "perceptron.fit(OR_X, OR_y)"
      ]
    },
    {
      "cell_type": "code",
      "execution_count": 17,
      "metadata": {
        "colab": {
          "base_uri": "https://localhost:8080/"
        },
        "id": "aa3durbc-bR-",
        "outputId": "1c168f1c-f0de-4739-f36d-af2723f9749b"
      },
      "outputs": [
        {
          "output_type": "stream",
          "name": "stdout",
          "text": [
            "Input: [0 0], Predicted: 0, Target: 0\n",
            "Input: [0 1], Predicted: 1, Target: 1\n",
            "Input: [1 0], Predicted: 1, Target: 1\n",
            "Input: [1 1], Predicted: 1, Target: 1\n"
          ]
        }
      ],
      "source": [
        "# OR 테스트\n",
        "for x, target in zip(OR_X, OR_y):\n",
        "    pred = perceptron.predict(x)\n",
        "    print(f\"Input: {x}, Predicted: {pred}, Target: {target}\")"
      ]
    },
    {
      "cell_type": "markdown",
      "metadata": {
        "id": "6Wq9wcv4-bR-"
      },
      "source": [
        "# XOR 데이터 학습"
      ]
    },
    {
      "cell_type": "code",
      "execution_count": 18,
      "metadata": {
        "colab": {
          "base_uri": "https://localhost:8080/"
        },
        "id": "tfCmcViK-bR-",
        "outputId": "4c87029d-c78f-4e6f-c07c-c1deefe9070c"
      },
      "outputs": [
        {
          "output_type": "stream",
          "name": "stdout",
          "text": [
            "Epoch 1/10, Weights: [-0.1 -0.1  0. ]\n",
            "Epoch 2/10, Weights: [ 0.  -0.1  0. ]\n",
            "Epoch 3/10, Weights: [ 0.  -0.1  0. ]\n",
            "Epoch 4/10, Weights: [ 0.  -0.1  0. ]\n",
            "Epoch 5/10, Weights: [ 0.  -0.1  0. ]\n",
            "Epoch 6/10, Weights: [ 0.  -0.1  0. ]\n",
            "Epoch 7/10, Weights: [ 0.  -0.1  0. ]\n",
            "Epoch 8/10, Weights: [ 0.  -0.1  0. ]\n",
            "Epoch 9/10, Weights: [ 0.  -0.1  0. ]\n",
            "Epoch 10/10, Weights: [ 0.  -0.1  0. ]\n"
          ]
        }
      ],
      "source": [
        "# 퍼셉트론 학습\n",
        "perceptron = Perceptron(input_size=2, lr=0.1, epochs=10)\n",
        "perceptron.fit(XOR_X, XOR_y)"
      ]
    },
    {
      "cell_type": "code",
      "execution_count": 19,
      "metadata": {
        "colab": {
          "base_uri": "https://localhost:8080/"
        },
        "id": "kxWWvYml-bR-",
        "outputId": "d84e9f71-2c07-4ed4-9114-a95d6c2a5819"
      },
      "outputs": [
        {
          "output_type": "stream",
          "name": "stdout",
          "text": [
            "Testing XOR Problem:\n",
            "Input: [0 0], Predicted: 1, Target: 0\n",
            "Input: [0 1], Predicted: 1, Target: 1\n",
            "Input: [1 0], Predicted: 0, Target: 1\n",
            "Input: [1 1], Predicted: 0, Target: 0\n"
          ]
        }
      ],
      "source": [
        "# XOR 문제 테스트,\n",
        "print(\"Testing XOR Problem:\")\n",
        "for x, target in zip(XOR_X, XOR_y):\n",
        "    pred = perceptron.predict(x)\n",
        "    print(f\"Input: {x}, Predicted: {pred}, Target: {target}\")"
      ]
    }
  ],
  "metadata": {
    "kernelspec": {
      "display_name": "tf",
      "language": "python",
      "name": "python3"
    },
    "language_info": {
      "codemirror_mode": {
        "name": "ipython",
        "version": 3
      },
      "file_extension": ".py",
      "mimetype": "text/x-python",
      "name": "python",
      "nbconvert_exporter": "python",
      "pygments_lexer": "ipython3",
      "version": "3.9.0"
    },
    "colab": {
      "provenance": [],
      "include_colab_link": true
    }
  },
  "nbformat": 4,
  "nbformat_minor": 0
}