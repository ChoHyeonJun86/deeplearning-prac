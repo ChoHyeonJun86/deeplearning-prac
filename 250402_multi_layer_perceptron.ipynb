{
  "nbformat": 4,
  "nbformat_minor": 0,
  "metadata": {
    "colab": {
      "provenance": [],
      "include_colab_link": true
    },
    "kernelspec": {
      "name": "python3",
      "display_name": "Python 3"
    },
    "language_info": {
      "name": "python"
    }
  },
  "cells": [
    {
      "cell_type": "markdown",
      "metadata": {
        "id": "view-in-github",
        "colab_type": "text"
      },
      "source": [
        "<a href=\"https://colab.research.google.com/github/ChoHyeonJun86/deeplearning-prac/blob/main/250402_multi_layer_perceptron.ipynb\" target=\"_parent\"><img src=\"https://colab.research.google.com/assets/colab-badge.svg\" alt=\"Open In Colab\"/></a>"
      ]
    },
    {
      "cell_type": "markdown",
      "source": [
        "# Numpy 기초 실습"
      ],
      "metadata": {
        "id": "KCKM3Y7FIbht"
      }
    },
    {
      "cell_type": "markdown",
      "source": [
        "## List to Numpy Array"
      ],
      "metadata": {
        "id": "BZM4raj2OsUj"
      }
    },
    {
      "cell_type": "code",
      "execution_count": 36,
      "metadata": {
        "id": "g1koiUYhICMu"
      },
      "outputs": [],
      "source": [
        "import numpy as np"
      ]
    },
    {
      "cell_type": "code",
      "source": [
        "test = np.array([[1,2,3], [4,5,6]])\n",
        "test"
      ],
      "metadata": {
        "id": "l3oAg5vFIeFx",
        "colab": {
          "base_uri": "https://localhost:8080/"
        },
        "outputId": "762cbedd-740a-4fc5-d65e-1a5d9be0893a"
      },
      "execution_count": 37,
      "outputs": [
        {
          "output_type": "execute_result",
          "data": {
            "text/plain": [
              "array([[1, 2, 3],\n",
              "       [4, 5, 6]])"
            ]
          },
          "metadata": {},
          "execution_count": 37
        }
      ]
    },
    {
      "cell_type": "markdown",
      "source": [
        "### 문제1 : 아래 list 3개를 각각 행으로 갖는 배열을 생성하는 코드를 완성하고 배열의 크기를 print 하세요"
      ],
      "metadata": {
        "id": "3NI3EK4eS3w0"
      }
    },
    {
      "cell_type": "code",
      "source": [
        "list1 = [1,2,3,4]\n",
        "list2 = [5,6,7,8]\n",
        "list3 = [9,10,11,12]\n",
        "\n",
        "arr = np.array([list1, list2,list3])\n",
        "\n",
        "print(arr)\n",
        "print(arr.shape)"
      ],
      "metadata": {
        "colab": {
          "base_uri": "https://localhost:8080/"
        },
        "id": "llyjyRFlO07T",
        "outputId": "56996ded-b6c0-41a3-b997-48c91a273473"
      },
      "execution_count": 38,
      "outputs": [
        {
          "output_type": "stream",
          "name": "stdout",
          "text": [
            "[[ 1  2  3  4]\n",
            " [ 5  6  7  8]\n",
            " [ 9 10 11 12]]\n",
            "(3, 4)\n"
          ]
        }
      ]
    },
    {
      "cell_type": "markdown",
      "source": [
        "## Reshape"
      ],
      "metadata": {
        "id": "_42lJZZqQ8Iq"
      }
    },
    {
      "cell_type": "code",
      "source": [
        "arr16 = np.array(list(range(16))).reshape((4,4))\n",
        "arr16"
      ],
      "metadata": {
        "colab": {
          "base_uri": "https://localhost:8080/"
        },
        "id": "7txsOkorOwSa",
        "outputId": "4dc4caf2-3d8e-42b6-f071-5678029dd149"
      },
      "execution_count": 39,
      "outputs": [
        {
          "output_type": "execute_result",
          "data": {
            "text/plain": [
              "array([[ 0,  1,  2,  3],\n",
              "       [ 4,  5,  6,  7],\n",
              "       [ 8,  9, 10, 11],\n",
              "       [12, 13, 14, 15]])"
            ]
          },
          "metadata": {},
          "execution_count": 39
        }
      ]
    },
    {
      "cell_type": "markdown",
      "source": [
        "### 문제2 : 0부터 15까지의 숫자를 원소로 갖는 배열을 아래의 형태로 만드는 코드를 작성해보세요"
      ],
      "metadata": {
        "id": "DAUCn6vtS9Zw"
      }
    },
    {
      "cell_type": "code",
      "source": [
        "# [[ 0,  1],\n",
        "# [ 2,  3],\n",
        "# [ 4,  5],\n",
        "# [ 6,  7],\n",
        "# [ 8,  9],\n",
        "# [10, 11],\n",
        "# [12, 13],\n",
        "# [14, 15]]\n",
        "\n",
        "arr16_reshaped = np.array(list(range(16))).reshape((8,2))\n",
        "print(arr16_reshaped)"
      ],
      "metadata": {
        "colab": {
          "base_uri": "https://localhost:8080/"
        },
        "id": "Nb3XPc0EQcyP",
        "outputId": "57670a93-929e-428a-d400-0f01f6e64786"
      },
      "execution_count": 40,
      "outputs": [
        {
          "output_type": "stream",
          "name": "stdout",
          "text": [
            "[[ 0  1]\n",
            " [ 2  3]\n",
            " [ 4  5]\n",
            " [ 6  7]\n",
            " [ 8  9]\n",
            " [10 11]\n",
            " [12 13]\n",
            " [14 15]]\n"
          ]
        }
      ]
    },
    {
      "cell_type": "markdown",
      "source": [
        "## 0 or 1 값 채우기"
      ],
      "metadata": {
        "id": "saqa0r5HRC0p"
      }
    },
    {
      "cell_type": "code",
      "source": [
        "filled_one = np.ones(16)\n",
        "filled_one"
      ],
      "metadata": {
        "colab": {
          "base_uri": "https://localhost:8080/"
        },
        "id": "zi8SkccPRKEm",
        "outputId": "34e277b1-6c35-4264-e382-88f07eed2d88"
      },
      "execution_count": 41,
      "outputs": [
        {
          "output_type": "execute_result",
          "data": {
            "text/plain": [
              "array([1., 1., 1., 1., 1., 1., 1., 1., 1., 1., 1., 1., 1., 1., 1., 1.])"
            ]
          },
          "metadata": {},
          "execution_count": 41
        }
      ]
    },
    {
      "cell_type": "code",
      "source": [
        "filled_zero = np.zeros((2,5))\n",
        "filled_zero"
      ],
      "metadata": {
        "colab": {
          "base_uri": "https://localhost:8080/"
        },
        "id": "695GN0E_RL5G",
        "outputId": "b965cd09-fd3e-45c7-e72b-ef7b90a5c429"
      },
      "execution_count": 42,
      "outputs": [
        {
          "output_type": "execute_result",
          "data": {
            "text/plain": [
              "array([[0., 0., 0., 0., 0.],\n",
              "       [0., 0., 0., 0., 0.]])"
            ]
          },
          "metadata": {},
          "execution_count": 42
        }
      ]
    },
    {
      "cell_type": "code",
      "source": [
        "filled_like_arr16 = np.ones_like(arr16)\n",
        "filled_like_arr16"
      ],
      "metadata": {
        "colab": {
          "base_uri": "https://localhost:8080/"
        },
        "id": "5hoOf65CRHD-",
        "outputId": "bffdcebc-774c-4038-d8a4-4ab2385de0e9"
      },
      "execution_count": 43,
      "outputs": [
        {
          "output_type": "execute_result",
          "data": {
            "text/plain": [
              "array([[1, 1, 1, 1],\n",
              "       [1, 1, 1, 1],\n",
              "       [1, 1, 1, 1],\n",
              "       [1, 1, 1, 1]])"
            ]
          },
          "metadata": {},
          "execution_count": 43
        }
      ]
    },
    {
      "cell_type": "markdown",
      "source": [
        "### 문제 3 : 아래 형태를 갖는 배열을 만드는 코드를 작성해보세요\n",
        "- ones, zeros, reshape 사용\n",
        "- 성공했으면 concatenate의 axis를 0으로 바꿔보고 어떤 동작을 하는지 적어보세요"
      ],
      "metadata": {
        "id": "FbJ_pfUrTDtR"
      }
    },
    {
      "cell_type": "code",
      "source": [
        "# arr_with_one 배열 참고\n",
        "# [[1., 1.],\n",
        "# [1., 1.],\n",
        "# [1., 1.],\n",
        "# [1., 1.]]\n",
        "\n",
        "# arr_with_zero 배열 참고\n",
        "# [[0., 0.],\n",
        "# [0., 0.],\n",
        "# [0., 0.],\n",
        "# [0., 0.]]\n",
        "\n",
        "# arr_with_one_zero 배열 참고\n",
        "# [[1., 1., 0., 0.],\n",
        "# [1., 1., 0., 0.],\n",
        "# [1., 1., 0., 0.],\n",
        "# [1., 1., 0., 0.]]\n",
        "\n",
        "arr_with_one = np.ones((4,2))\n",
        "arr_with_zero = np.zeros((4,2))\n",
        "arr_with_one_zero = np.concatenate((arr_with_one, arr_with_zero), axis=0) # axis=1일 때, 수평으로 배열 합성, axis=0일 때 수직으로 합성\n",
        "arr_with_one_zero"
      ],
      "metadata": {
        "colab": {
          "base_uri": "https://localhost:8080/"
        },
        "id": "cgChTODOS1LU",
        "outputId": "cd430920-7a1b-4070-f4d8-6dae2f7c5fba"
      },
      "execution_count": 68,
      "outputs": [
        {
          "output_type": "execute_result",
          "data": {
            "text/plain": [
              "array([[1., 1.],\n",
              "       [1., 1.],\n",
              "       [1., 1.],\n",
              "       [1., 1.],\n",
              "       [0., 0.],\n",
              "       [0., 0.],\n",
              "       [0., 0.],\n",
              "       [0., 0.]])"
            ]
          },
          "metadata": {},
          "execution_count": 68
        }
      ]
    },
    {
      "cell_type": "markdown",
      "source": [
        "## Broadcasting"
      ],
      "metadata": {
        "id": "SjUfnuZsU7qo"
      }
    },
    {
      "cell_type": "code",
      "source": [
        "bc = np.ones(25).reshape((5,5))\n",
        "bc = bc * 5 - 1\n",
        "bc"
      ],
      "metadata": {
        "colab": {
          "base_uri": "https://localhost:8080/"
        },
        "id": "0fevWabMU4ow",
        "outputId": "61cfa6ad-36d9-4f65-d93c-4022f3cb9247"
      },
      "execution_count": 45,
      "outputs": [
        {
          "output_type": "execute_result",
          "data": {
            "text/plain": [
              "array([[4., 4., 4., 4., 4.],\n",
              "       [4., 4., 4., 4., 4.],\n",
              "       [4., 4., 4., 4., 4.],\n",
              "       [4., 4., 4., 4., 4.],\n",
              "       [4., 4., 4., 4., 4.]])"
            ]
          },
          "metadata": {},
          "execution_count": 45
        }
      ]
    },
    {
      "cell_type": "code",
      "source": [
        "bc2 = bc * 0 + 3\n",
        "bc + bc2"
      ],
      "metadata": {
        "colab": {
          "base_uri": "https://localhost:8080/"
        },
        "id": "d_-NYyHiVV2k",
        "outputId": "a17defd4-ccb9-48c6-eabe-dab094be06ba"
      },
      "execution_count": 46,
      "outputs": [
        {
          "output_type": "execute_result",
          "data": {
            "text/plain": [
              "array([[7., 7., 7., 7., 7.],\n",
              "       [7., 7., 7., 7., 7.],\n",
              "       [7., 7., 7., 7., 7.],\n",
              "       [7., 7., 7., 7., 7.],\n",
              "       [7., 7., 7., 7., 7.]])"
            ]
          },
          "metadata": {},
          "execution_count": 46
        }
      ]
    },
    {
      "cell_type": "code",
      "source": [
        "one_dim_arr = [5, 5, 5, 5, 5]\n",
        "new_bc = bc + one_dim_arr\n",
        "new_bc"
      ],
      "metadata": {
        "colab": {
          "base_uri": "https://localhost:8080/"
        },
        "id": "WTCCfB42VqM0",
        "outputId": "f6e42da6-24d0-490d-a8c5-a454cd5cd127"
      },
      "execution_count": 47,
      "outputs": [
        {
          "output_type": "execute_result",
          "data": {
            "text/plain": [
              "array([[9., 9., 9., 9., 9.],\n",
              "       [9., 9., 9., 9., 9.],\n",
              "       [9., 9., 9., 9., 9.],\n",
              "       [9., 9., 9., 9., 9.],\n",
              "       [9., 9., 9., 9., 9.]])"
            ]
          },
          "metadata": {},
          "execution_count": 47
        }
      ]
    },
    {
      "cell_type": "markdown",
      "source": [
        "## Slicing"
      ],
      "metadata": {
        "id": "bam-pV95XlMe"
      }
    },
    {
      "cell_type": "code",
      "source": [
        "print(arr16)"
      ],
      "metadata": {
        "colab": {
          "base_uri": "https://localhost:8080/"
        },
        "id": "kIPoNUNHXoSE",
        "outputId": "7cde60bf-85ff-4f9a-ba09-4f0454f7dd70"
      },
      "execution_count": 48,
      "outputs": [
        {
          "output_type": "stream",
          "name": "stdout",
          "text": [
            "[[ 0  1  2  3]\n",
            " [ 4  5  6  7]\n",
            " [ 8  9 10 11]\n",
            " [12 13 14 15]]\n"
          ]
        }
      ]
    },
    {
      "cell_type": "code",
      "source": [
        "arr16[2]"
      ],
      "metadata": {
        "colab": {
          "base_uri": "https://localhost:8080/"
        },
        "id": "AOAl51ENX4BR",
        "outputId": "95bfd85e-ab9a-4d8b-c4d4-fdd024251e76"
      },
      "execution_count": 49,
      "outputs": [
        {
          "output_type": "execute_result",
          "data": {
            "text/plain": [
              "array([ 8,  9, 10, 11])"
            ]
          },
          "metadata": {},
          "execution_count": 49
        }
      ]
    },
    {
      "cell_type": "code",
      "source": [
        "arr16[2,:]"
      ],
      "metadata": {
        "colab": {
          "base_uri": "https://localhost:8080/"
        },
        "id": "UtTGQhkFX7eA",
        "outputId": "606dd8cd-f023-48ba-db58-fbcc8a2dd9e7"
      },
      "execution_count": 50,
      "outputs": [
        {
          "output_type": "execute_result",
          "data": {
            "text/plain": [
              "array([ 8,  9, 10, 11])"
            ]
          },
          "metadata": {},
          "execution_count": 50
        }
      ]
    },
    {
      "cell_type": "code",
      "source": [
        "arr16[:,2]"
      ],
      "metadata": {
        "colab": {
          "base_uri": "https://localhost:8080/"
        },
        "id": "mhwqHG0WYCOf",
        "outputId": "2a746b89-912a-4261-e551-3a5ab3d8b30d"
      },
      "execution_count": 51,
      "outputs": [
        {
          "output_type": "execute_result",
          "data": {
            "text/plain": [
              "array([ 2,  6, 10, 14])"
            ]
          },
          "metadata": {},
          "execution_count": 51
        }
      ]
    },
    {
      "cell_type": "code",
      "source": [
        "print(arr16[0:2])\n",
        "print(arr16[0,2])"
      ],
      "metadata": {
        "colab": {
          "base_uri": "https://localhost:8080/"
        },
        "id": "mQKj_5KJYFou",
        "outputId": "d223e007-5e87-4945-db2a-a058af984926"
      },
      "execution_count": 52,
      "outputs": [
        {
          "output_type": "stream",
          "name": "stdout",
          "text": [
            "[[0 1 2 3]\n",
            " [4 5 6 7]]\n",
            "2\n"
          ]
        }
      ]
    },
    {
      "cell_type": "code",
      "source": [
        "arr16[1:3]"
      ],
      "metadata": {
        "colab": {
          "base_uri": "https://localhost:8080/"
        },
        "id": "Zm7kGKN6YKZH",
        "outputId": "3e3aeb6b-57be-4f2f-d9ba-55247ec4f2a2"
      },
      "execution_count": 53,
      "outputs": [
        {
          "output_type": "execute_result",
          "data": {
            "text/plain": [
              "array([[ 4,  5,  6,  7],\n",
              "       [ 8,  9, 10, 11]])"
            ]
          },
          "metadata": {},
          "execution_count": 53
        }
      ]
    },
    {
      "cell_type": "code",
      "source": [
        "arr16[arr16[:,0]<5]"
      ],
      "metadata": {
        "colab": {
          "base_uri": "https://localhost:8080/"
        },
        "id": "qGCo_DOuYX4I",
        "outputId": "d8cd2127-8922-4591-c6ad-ed10703ec70b"
      },
      "execution_count": 54,
      "outputs": [
        {
          "output_type": "execute_result",
          "data": {
            "text/plain": [
              "array([[0, 1, 2, 3],\n",
              "       [4, 5, 6, 7]])"
            ]
          },
          "metadata": {},
          "execution_count": 54
        }
      ]
    },
    {
      "cell_type": "markdown",
      "source": [
        "### 문제 4 : 3번째 열에서(index=2) 10보다 크거나 같은 원소가 있는 행 전체를 담는 배열을 생성해보세요"
      ],
      "metadata": {
        "id": "_0E3g_8eY6sR"
      }
    },
    {
      "cell_type": "code",
      "source": [
        "# 결과\n",
        "# [ 8,  9, 10, 11],\n",
        "# [12, 13, 14, 15]]\n",
        "\n",
        "test_arr = arr16[arr16[:,0]>5]\n",
        "test_arr"
      ],
      "metadata": {
        "colab": {
          "base_uri": "https://localhost:8080/"
        },
        "id": "3EkzmxahYjEK",
        "outputId": "2c87ba8a-3f29-48a8-dcc4-a12440b02c95"
      },
      "execution_count": 55,
      "outputs": [
        {
          "output_type": "execute_result",
          "data": {
            "text/plain": [
              "array([[ 8,  9, 10, 11],\n",
              "       [12, 13, 14, 15]])"
            ]
          },
          "metadata": {},
          "execution_count": 55
        }
      ]
    },
    {
      "cell_type": "markdown",
      "source": [
        "## 평균(mean)"
      ],
      "metadata": {
        "id": "BirMFOCVZPrX"
      }
    },
    {
      "cell_type": "code",
      "source": [
        "target = np.ones((10000,100))\n",
        "target.shape"
      ],
      "metadata": {
        "colab": {
          "base_uri": "https://localhost:8080/"
        },
        "id": "03qrGGPEZOA6",
        "outputId": "5eb68208-7d7d-425f-e099-dedff1c56c3a"
      },
      "execution_count": 56,
      "outputs": [
        {
          "output_type": "execute_result",
          "data": {
            "text/plain": [
              "(10000, 100)"
            ]
          },
          "metadata": {},
          "execution_count": 56
        }
      ]
    },
    {
      "cell_type": "code",
      "source": [
        "mean = target.mean(axis=0)\n",
        "print(mean.shape)\n",
        "print(mean)"
      ],
      "metadata": {
        "colab": {
          "base_uri": "https://localhost:8080/"
        },
        "id": "jm7RCGItZn37",
        "outputId": "fc09ff47-08d0-46be-8484-fde9ebe81e3b"
      },
      "execution_count": 57,
      "outputs": [
        {
          "output_type": "stream",
          "name": "stdout",
          "text": [
            "(100,)\n",
            "[1. 1. 1. 1. 1. 1. 1. 1. 1. 1. 1. 1. 1. 1. 1. 1. 1. 1. 1. 1. 1. 1. 1. 1.\n",
            " 1. 1. 1. 1. 1. 1. 1. 1. 1. 1. 1. 1. 1. 1. 1. 1. 1. 1. 1. 1. 1. 1. 1. 1.\n",
            " 1. 1. 1. 1. 1. 1. 1. 1. 1. 1. 1. 1. 1. 1. 1. 1. 1. 1. 1. 1. 1. 1. 1. 1.\n",
            " 1. 1. 1. 1. 1. 1. 1. 1. 1. 1. 1. 1. 1. 1. 1. 1. 1. 1. 1. 1. 1. 1. 1. 1.\n",
            " 1. 1. 1. 1.]\n"
          ]
        }
      ]
    },
    {
      "cell_type": "code",
      "source": [
        "mean = target.mean(axis=1)\n",
        "print(mean.shape)\n",
        "print(mean)"
      ],
      "metadata": {
        "colab": {
          "base_uri": "https://localhost:8080/"
        },
        "id": "_9fcdeM1ZTue",
        "outputId": "662b96e7-9b07-4d23-a879-24ab4a86ca2c"
      },
      "execution_count": 58,
      "outputs": [
        {
          "output_type": "stream",
          "name": "stdout",
          "text": [
            "(10000,)\n",
            "[1. 1. 1. ... 1. 1. 1.]\n"
          ]
        }
      ]
    },
    {
      "cell_type": "markdown",
      "source": [
        "# 코드를 통해서 XOR 문제 해결하기"
      ],
      "metadata": {
        "id": "FxLLamwAISJY"
      }
    },
    {
      "cell_type": "code",
      "source": [
        "# 가중치와 바이어스\n",
        "w11 = np.array([-2, -2])  #가중치 값 저장하는 모습\n",
        "w12 = np.array([2, 2])\n",
        "w2 = np.array([1, 1])\n",
        "\n",
        "b1 = 3  #편향 값 저장\n",
        "b2 = -1\n",
        "b3 = -1"
      ],
      "metadata": {
        "id": "c5AAAbW9IQyY"
      },
      "execution_count": 59,
      "outputs": []
    },
    {
      "cell_type": "code",
      "source": [
        "# 퍼셉트론\n",
        "def MLP(x, w, b):\n",
        "    y = np.sum(w * x) + b   #수직선상에서 값을 비교해 0과 가까울 때는 0을 1과 가까울 때는 1을 출력하는 함수\n",
        "\n",
        "    if y <= 0:\n",
        "        return 0\n",
        "    else:\n",
        "        return 1"
      ],
      "metadata": {
        "id": "h8QlZfXtJv5E"
      },
      "execution_count": 60,
      "outputs": []
    },
    {
      "cell_type": "code",
      "source": [
        "# NAND 게이트\n",
        "def NAND(x1,x2):\n",
        "    return MLP(np.array([x1, x2]), w11, b1)\n",
        "\n",
        "# OR 게이트\n",
        "def OR(x1,x2):\n",
        "    return MLP(np.array([x1, x2]), w12, b2)\n",
        "\n",
        "# AND 게이트\n",
        "def AND(x1,x2):\n",
        "    return MLP(np.array([x1, x2]), w2, b3)\n",
        "\n",
        "# XOR 게이트\n",
        "def XOR(x1,x2):\n",
        "    return AND(NAND(x1, x2),OR(x1,x2))  #NAND,OR 게이트를 거쳐 연산을 진행"
      ],
      "metadata": {
        "id": "hruqACNnJ4YZ"
      },
      "execution_count": 61,
      "outputs": []
    },
    {
      "cell_type": "code",
      "source": [
        "# x1, x2 값을 번갈아 대입해 가며 최종 값 출력\n",
        "for x in [(0, 0), (1, 0), (0, 1), (1, 1)]:  #()로 튜플값을 정의함, 이 값은 변하지 않음.\n",
        "    y = XOR(x[0], x[1])\n",
        "    print(\"입력 값: \" + str(x) + \" 출력 값: \" + str(y))"
      ],
      "metadata": {
        "colab": {
          "base_uri": "https://localhost:8080/"
        },
        "id": "P6Z24XXTJ6I-",
        "outputId": "2237c599-dcae-48f1-fd9f-6f92e9f3ea91"
      },
      "execution_count": 62,
      "outputs": [
        {
          "output_type": "stream",
          "name": "stdout",
          "text": [
            "입력 값: (0, 0) 출력 값: 0\n",
            "입력 값: (1, 0) 출력 값: 1\n",
            "입력 값: (0, 1) 출력 값: 1\n",
            "입력 값: (1, 1) 출력 값: 0\n"
          ]
        }
      ]
    },
    {
      "cell_type": "markdown",
      "source": [
        "# Multi Perceptron Class 생성을 통해 해결하기"
      ],
      "metadata": {
        "id": "PaqqWAsvJpII"
      }
    },
    {
      "cell_type": "code",
      "source": [
        "# XOR 문제를 해결하기 위한 다층 퍼셉트론\n",
        "class SimpleMLP:\n",
        "    def __init__(self):\n",
        "        # 수동으로 설정한 가중치와 바이어스\n",
        "        self.weights_input_hidden = np.array([[-2, 2], [-2, 2]])  # x1, x2 -> n1, n2 계산을 위한 가중치 배열, [W11, W12],[W11, W12]에 각각 대응\n",
        "        self.bias_hidden = np.array([3, -1])  # x1, x2 -> n1, n2\n",
        "\n",
        "        # 출력층: 1개의 뉴런\n",
        "        self.weights_hidden_output = np.array([1, 1])  # n1, n2 -> y 가중치\n",
        "        self.bias_output = -1  # n1, n2 -> y 바이어스\n",
        "\n",
        "    def forward(self, X):\n",
        "        # 은닉층 계산\n",
        "        hidden_input = np.dot(X, self.weights_input_hidden) + self.bias_hidden\n",
        "        hidden_output = np.where(hidden_input <= 0, 0, 1) #np.where, 조건에 만족하면 0을 만족하지 않는다면  1을 대응시키는 메서드\n",
        "        print(f\"hidden_output : {hidden_input}\")\n",
        "\n",
        "        # 출력층 계산\n",
        "        final_input = np.dot(hidden_output, self.weights_hidden_output) + self.bias_output\n",
        "        final_output = np.where(final_input <= 0, 0, 1)\n",
        "        print(f\"final_output : {final_input}\")\n",
        "\n",
        "        return final_output"
      ],
      "metadata": {
        "id": "m57gn3nTaM9L"
      },
      "execution_count": 63,
      "outputs": []
    },
    {
      "cell_type": "code",
      "source": [
        "# XOR 데이터셋 정의\n",
        "XOR_X = np.array([[0, 0], [0, 1], [1, 0], [1, 1]])  # 입력값\n",
        "XOR_y = np.array([0, 1, 1, 0])  # XOR 출력값"
      ],
      "metadata": {
        "id": "5kAc9kaHaRwu"
      },
      "execution_count": 64,
      "outputs": []
    },
    {
      "cell_type": "code",
      "source": [
        "# 모델 초기화\n",
        "mlp = SimpleMLP()"
      ],
      "metadata": {
        "id": "uqNZS7fmaTwM"
      },
      "execution_count": 65,
      "outputs": []
    },
    {
      "cell_type": "code",
      "source": [
        "# 예측\n",
        "predictions = mlp.forward(XOR_X)\n",
        "# 결과 출력\n",
        "print(f\"XOR 문제 예측 결과: {predictions}\")"
      ],
      "metadata": {
        "colab": {
          "base_uri": "https://localhost:8080/"
        },
        "id": "emQQfaBebYJ7",
        "outputId": "84530498-a415-426f-8b5f-4fa36e2e8698"
      },
      "execution_count": 66,
      "outputs": [
        {
          "output_type": "stream",
          "name": "stdout",
          "text": [
            "hidden_output : [[ 3 -1]\n",
            " [ 1  1]\n",
            " [ 1  1]\n",
            " [-1  3]]\n",
            "final_output : [0 1 1 0]\n",
            "XOR 문제 예측 결과: [0 1 1 0]\n"
          ]
        }
      ]
    }
  ]
}