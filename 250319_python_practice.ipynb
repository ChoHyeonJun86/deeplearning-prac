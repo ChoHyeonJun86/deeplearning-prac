{
  "nbformat": 4,
  "nbformat_minor": 0,
  "metadata": {
    "colab": {
      "provenance": [],
      "include_colab_link": true
    },
    "kernelspec": {
      "name": "python3",
      "display_name": "Python 3"
    },
    "language_info": {
      "name": "python"
    }
  },
  "cells": [
    {
      "cell_type": "markdown",
      "metadata": {
        "id": "view-in-github",
        "colab_type": "text"
      },
      "source": [
        "<a href=\"https://colab.research.google.com/github/ChoHyeonJun86/deeplearning-prac/blob/main/250319_python_practice.ipynb\" target=\"_parent\"><img src=\"https://colab.research.google.com/assets/colab-badge.svg\" alt=\"Open In Colab\"/></a>"
      ]
    },
    {
      "cell_type": "markdown",
      "source": [
        "# Numpy 실습\n",
        "배열 연산을 빠르게 수행할 수 있도록 도와주는 라이브러리"
      ],
      "metadata": {
        "id": "O0Op_eEWBHNZ"
      }
    },
    {
      "cell_type": "code",
      "execution_count": 34,
      "metadata": {
        "colab": {
          "base_uri": "https://localhost:8080/"
        },
        "id": "tizIV_DfBGPy",
        "outputId": "2e98c70e-777b-469a-f138-39fe4335b2b0"
      },
      "outputs": [
        {
          "output_type": "stream",
          "name": "stdout",
          "text": [
            "[1 2 3 4]\n"
          ]
        }
      ],
      "source": [
        "import numpy as np\n",
        "\n",
        "# 1차원 배열 생성\n",
        "arr = np.array([1, 2, 3, 4])\n",
        "print(arr)  # [1 2 3 4]"
      ]
    },
    {
      "cell_type": "code",
      "source": [
        "print(arr.shape)  # 배열의 형태 출력\n",
        "print(arr.size)   # 배열의 원소 개수 출력\n",
        "print(arr.dtype)  # 데이터 타입 출력"
      ],
      "metadata": {
        "colab": {
          "base_uri": "https://localhost:8080/"
        },
        "id": "pkHheEvDBYmr",
        "outputId": "8ac2f575-636e-4bc2-f14f-78ecf6205b4c"
      },
      "execution_count": 35,
      "outputs": [
        {
          "output_type": "stream",
          "name": "stdout",
          "text": [
            "(4,)\n",
            "4\n",
            "int64\n"
          ]
        }
      ]
    },
    {
      "cell_type": "markdown",
      "source": [
        "# Python Print Format"
      ],
      "metadata": {
        "id": "xIFGt-NGCRMu"
      }
    },
    {
      "cell_type": "code",
      "source": [
        "print(\"안녕하세요, 머신러닝 수업입니다!\")"
      ],
      "metadata": {
        "colab": {
          "base_uri": "https://localhost:8080/"
        },
        "id": "WwFYuZNCCUnG",
        "outputId": "470319a1-d694-43bf-b4d4-76678c625405"
      },
      "execution_count": 36,
      "outputs": [
        {
          "output_type": "stream",
          "name": "stdout",
          "text": [
            "안녕하세요, 머신러닝 수업입니다!\n"
          ]
        }
      ]
    },
    {
      "cell_type": "code",
      "source": [
        "fruits = [\"사과\", \"바나나\", \"키위\"]\n",
        "for fruit in fruits:\n",
        "    print(fruit)"
      ],
      "metadata": {
        "colab": {
          "base_uri": "https://localhost:8080/"
        },
        "id": "BJWJFfvwCjsU",
        "outputId": "0cacee29-8617-4fcc-9236-30c291e0a480"
      },
      "execution_count": 37,
      "outputs": [
        {
          "output_type": "stream",
          "name": "stdout",
          "text": [
            "사과\n",
            "바나나\n",
            "키위\n"
          ]
        }
      ]
    },
    {
      "cell_type": "code",
      "source": [
        "score=85\n",
        "name=\"김정은\"\n",
        "print(\"머신러닝 점수는 %d 점 입니다.\" %score)\n",
        "print(\"%s의 점수는 70 점 입니다.\" %name) ## 자기 이름 넣어서 실행\n",
        "print(\"%s의 점수는 %d 점 입니다. %s\" % (\"김정은\",85,\"합격!\")) # 자기 이름 넣어서 실행"
      ],
      "metadata": {
        "colab": {
          "base_uri": "https://localhost:8080/"
        },
        "id": "cT3C9lLWGCG7",
        "outputId": "308621cb-3d2e-4d73-de62-e744e4e4ea2c"
      },
      "execution_count": 38,
      "outputs": [
        {
          "output_type": "stream",
          "name": "stdout",
          "text": [
            "머신러닝 점수는 85 점 입니다.\n",
            "김정은의 점수는 70 점 입니다.\n",
            "김정은의 점수는 85 점 입니다. 합격!\n"
          ]
        }
      ]
    },
    {
      "cell_type": "markdown",
      "source": [
        "# Python for 문"
      ],
      "metadata": {
        "id": "GpI5fa9CEoSj"
      }
    },
    {
      "cell_type": "code",
      "source": [
        "for i in range(10):\n",
        "    print(i)"
      ],
      "metadata": {
        "colab": {
          "base_uri": "https://localhost:8080/"
        },
        "id": "NmkFsz8QD6Za",
        "outputId": "e8c5fd6f-d6a5-4221-ca24-249b333fdb49"
      },
      "execution_count": 39,
      "outputs": [
        {
          "output_type": "stream",
          "name": "stdout",
          "text": [
            "0\n",
            "1\n",
            "2\n",
            "3\n",
            "4\n",
            "5\n",
            "6\n",
            "7\n",
            "8\n",
            "9\n"
          ]
        }
      ]
    },
    {
      "cell_type": "code",
      "source": [
        "for i in range(10):\n",
        "    print(i, end=\" \")  # end=\" \"를 사용하면 줄바꿈 없이 출력"
      ],
      "metadata": {
        "colab": {
          "base_uri": "https://localhost:8080/"
        },
        "id": "gX-AzsrOED6b",
        "outputId": "d308acea-28e0-4e3c-8742-7cfb4ba9694f"
      },
      "execution_count": 40,
      "outputs": [
        {
          "output_type": "stream",
          "name": "stdout",
          "text": [
            "0 1 2 3 4 5 6 7 8 9 "
          ]
        }
      ]
    },
    {
      "cell_type": "code",
      "source": [
        "for idx, fruit in enumerate(fruits):\n",
        "    print(f\"{idx}: {fruit}\")"
      ],
      "metadata": {
        "colab": {
          "base_uri": "https://localhost:8080/"
        },
        "id": "OqJEOXEpEJpX",
        "outputId": "50885625-1921-472e-8e48-49f2f8e3fb3a"
      },
      "execution_count": 41,
      "outputs": [
        {
          "output_type": "stream",
          "name": "stdout",
          "text": [
            "0: 사과\n",
            "1: 바나나\n",
            "2: 키위\n"
          ]
        }
      ]
    },
    {
      "cell_type": "markdown",
      "source": [
        "### 리스트 내포\n",
        "- 파이썬에서 리스트를 생성하고 초기화하는 방법\n",
        "- 반복문과 조건문을 결합하여 리스트를 한 줄로 생성할 수 있음"
      ],
      "metadata": {
        "id": "6JqssQ19EaJS"
      }
    },
    {
      "cell_type": "code",
      "source": [
        "squares = [x**2 for x in range(1, 6)]\n",
        "print(squares)"
      ],
      "metadata": {
        "colab": {
          "base_uri": "https://localhost:8080/"
        },
        "id": "0K9dAlFkEV6_",
        "outputId": "b399a813-f324-4ad0-8289-8094298192ec"
      },
      "execution_count": 42,
      "outputs": [
        {
          "output_type": "stream",
          "name": "stdout",
          "text": [
            "[1, 4, 9, 16, 25]\n"
          ]
        }
      ]
    },
    {
      "cell_type": "markdown",
      "source": [
        "# 실습문제"
      ],
      "metadata": {
        "id": "wRT1PuwVE2Cv"
      }
    },
    {
      "cell_type": "markdown",
      "source": [
        "## 1. f string format을 활용해 아래와 같은 결과를 출력하세요\n",
        "출력 예시\n",
        "\n",
        "0교시 수업은 머신러닝입니다.\n",
        "\n",
        "1교시 수업은 딥러닝입니다."
      ],
      "metadata": {
        "id": "8DsqxuL5E4BQ"
      }
    },
    {
      "cell_type": "code",
      "source": [
        "list = [\"머신러닝\", \"딥러닝\"]\n",
        "\n",
        "# for문 작성\n",
        "for i in range(len(list)):\n",
        "# f string format print\n",
        "  print(f\"{i}교시 수업은 {list[i]}입니다.\")"
      ],
      "metadata": {
        "id": "Ut3uQlqmFX5j",
        "colab": {
          "base_uri": "https://localhost:8080/"
        },
        "outputId": "2887eb2f-c644-4ba6-c149-82ab8b61536a"
      },
      "execution_count": 43,
      "outputs": [
        {
          "output_type": "stream",
          "name": "stdout",
          "text": [
            "0교시 수업은 머신러닝입니다.\n",
            "1교시 수업은 딥러닝입니다.\n"
          ]
        }
      ]
    },
    {
      "cell_type": "markdown",
      "source": [
        "## 2. 리스트를 제곱해서 출력하는 코드를 작성하세요.\n",
        "1부터 10까지의 숫자를 담고 있는 리스트가 있습니다. 각 숫자의 제곱을 출력하는 코드를 작성하세요.\n",
        "\n",
        "출력 예시\n",
        "\n",
        "1의 제곱은 1입니다.\n",
        "\n",
        "2의 제곱은 4입니다.\n",
        "\n",
        "3의 제곱은 9입니다.\n",
        "\n",
        "...\n",
        "\n",
        "10의 제곱은 100입니다."
      ],
      "metadata": {
        "id": "-s956O2BGpKo"
      }
    },
    {
      "cell_type": "code",
      "source": [
        "numbers = range(1, 11)\n",
        "# 출력하기\n",
        "for i in range(len(numbers)):\n",
        "  print(f\"{numbers[i]}의 제곱은 {numbers[i]**2}입니다.\")"
      ],
      "metadata": {
        "id": "LaJgb8JxG8cO",
        "colab": {
          "base_uri": "https://localhost:8080/"
        },
        "outputId": "c9d77317-277d-4340-ebd9-7465184a4d47"
      },
      "execution_count": 45,
      "outputs": [
        {
          "output_type": "stream",
          "name": "stdout",
          "text": [
            "1의 제곱은 1입니다.\n",
            "2의 제곱은 4입니다.\n",
            "3의 제곱은 9입니다.\n",
            "4의 제곱은 16입니다.\n",
            "5의 제곱은 25입니다.\n",
            "6의 제곱은 36입니다.\n",
            "7의 제곱은 49입니다.\n",
            "8의 제곱은 64입니다.\n",
            "9의 제곱은 81입니다.\n",
            "10의 제곱은 100입니다.\n"
          ]
        }
      ]
    }
  ]
}